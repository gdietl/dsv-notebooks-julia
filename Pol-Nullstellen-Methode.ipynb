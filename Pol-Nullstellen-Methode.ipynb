{
 "cells": [
  {
   "cell_type": "markdown",
   "metadata": {},
   "source": [
    "# Julia-Notebook zur Veranschaulichung der Pol-Nullstellen-Methode"
   ]
  },
  {
   "cell_type": "markdown",
   "metadata": {},
   "source": [
    "## Initialisierung"
   ]
  },
  {
   "cell_type": "code",
   "execution_count": null,
   "metadata": {},
   "outputs": [],
   "source": [
    "using Interact, Plots, DSP, LaTeXStrings"
   ]
  },
  {
   "cell_type": "markdown",
   "metadata": {},
   "source": [
    "## Bandpass"
   ]
  },
  {
   "cell_type": "markdown",
   "metadata": {},
   "source": [
    "Parameter:\n",
    "* Abtastfrequenz $f_s$\n",
    "* Bandbreite $B$\n",
    "* Mittenfrequenz $f_0$\n",
    "* ein gegebener Wert von $H^\\prime(f)=H\\left(e^{j2\\pi f/ f_s}\\right)$, z.B., $H^\\prime(f_0)=1$"
   ]
  },
  {
   "cell_type": "markdown",
   "metadata": {},
   "source": [
    "Nullstellen: $z_{0,1}=1$ und $z_{0,2}=-1$\n",
    "\n",
    "Polstellen: $z_{\\infty,1/2}=r e^{\\pm j 2 \\pi \\frac{f_0}{f_s}}$ mit $r=1-\\frac{B}{f_s}\\pi$"
   ]
  },
  {
   "cell_type": "markdown",
   "metadata": {},
   "source": [
    "Funktion zur Ermittlung der Filterkoeffzienten (Annahme: $H^\\prime(f_0)=1$):"
   ]
  },
  {
   "cell_type": "code",
   "execution_count": null,
   "metadata": {},
   "outputs": [],
   "source": [
    "function pole_zero_method_BP(f_0_norm, B_norm)\n",
    "    # Nullstellen\n",
    "    z = [1, -1];\n",
    "\n",
    "    # Pole\n",
    "    r = 1 - B_norm*pi;\n",
    "    z_0 = exp(im*2*pi*f_0_norm);\n",
    "    p = [r*z_0, r*conj(z_0)];\n",
    "\n",
    "    # Berechnung des Koeffizienten b_0 (gain k)\n",
    "    k = (z_0-p[1])*(z_0-p[2])/(z_0-z[1])/(z_0-z[2]);\n",
    "\n",
    "    # Filterkoeffizienten\n",
    "    return ZeroPoleGain(z, p, k);\n",
    "    \n",
    "end;"
   ]
  },
  {
   "cell_type": "markdown",
   "metadata": {},
   "source": [
    "Resultierender Frequenzgang:"
   ]
  },
  {
   "cell_type": "code",
   "execution_count": null,
   "metadata": {},
   "outputs": [],
   "source": [
    "@manipulate for f_0_norm in 0:.01:.5, B_norm in 0.01:.01:.5\n",
    "    f_norm = 0:.001:.5;\n",
    "    H = freqz(pole_zero_method_BP(f_0_norm, B_norm), f_norm*2*pi);\n",
    "    plot(f_norm, 20*log10.(abs.(H)), label=false, lw=2, linecolor = :blue);\n",
    "    vline!([f_0_norm-B_norm/2], label = L\"f = f_0-B/2\", linecolor = :green);\n",
    "    vline!([f_0_norm+B_norm/2], label = L\"f = f_0+B/2\", linecolor = :green);\n",
    "    xlims!((0,.5));\n",
    "    ylims!((-50,5));\n",
    "    xlabel!(L\"f/f_s\");\n",
    "    ylabel!(L\"20 \\log_{10}H^\\prime(f)\");\n",
    "  end"
   ]
  },
  {
   "cell_type": "markdown",
   "metadata": {},
   "source": [
    "## Bandsperre"
   ]
  },
  {
   "cell_type": "markdown",
   "metadata": {},
   "source": [
    "Parameter:\n",
    "* Abtastfrequenz $f_s$\n",
    "* Bandbreite $B$\n",
    "* Mittenfrequenz $f_0$\n",
    "* ein gegebener Wert von $H^\\prime(f)=H\\left(e^{j2\\pi f/ f_s}\\right)$, z.B., $H^\\prime(0)=1$"
   ]
  },
  {
   "cell_type": "markdown",
   "metadata": {},
   "source": [
    "Nullstellen: $z_{0,1/2}=e^{\\pm j 2 \\pi \\frac{f_0}{f_s}}$\n",
    "\n",
    "Polstellen: $z_{\\infty,1/2}=r e^{\\pm j 2 \\pi \\frac{f_0}{f_s}}$ mit $r=1-\\frac{B}{f_s}\\pi$"
   ]
  },
  {
   "cell_type": "markdown",
   "metadata": {},
   "source": [
    "Funktion zur Ermittlung der Filterkoeffzienten (Annahme: $H^\\prime(0)=1$):"
   ]
  },
  {
   "cell_type": "code",
   "execution_count": null,
   "metadata": {},
   "outputs": [],
   "source": [
    "function pole_zero_method_BS(f_0_norm, B_norm)\n",
    "    # Nullstellen\n",
    "    z_0 = exp(im*2*pi*f_0_norm);\n",
    "    z = [z_0, conj(z_0)];\n",
    "\n",
    "    # Pole\n",
    "    r = 1 - B_norm*pi;\n",
    "    p = [r*z_0, r*conj(z_0)];\n",
    "\n",
    "    # Berechnung des Koeffizienten b_0 (gain k)\n",
    "    k = (1-p[1])*(1-p[2])/(1-z[1])/(1-z[2]);\n",
    "\n",
    "    # Filterkoeffizienten\n",
    "    return ZeroPoleGain(z, p, k);\n",
    "    \n",
    "end;"
   ]
  },
  {
   "cell_type": "markdown",
   "metadata": {},
   "source": [
    "Resultierender Frequenzgang:"
   ]
  },
  {
   "cell_type": "code",
   "execution_count": null,
   "metadata": {},
   "outputs": [],
   "source": [
    "@manipulate for f_0_norm in 0:.01:.5, B_norm in 0.01:.01:.5\n",
    "    f_norm = 0:.001:.5;\n",
    "    H = freqz(pole_zero_method_BS(f_0_norm, B_norm), f_norm*2*pi);\n",
    "    plot(f_norm, 20*log10.(abs.(H)), label=false, lw=2, linecolor = :blue);\n",
    "    vline!([f_0_norm-B_norm/2], label = L\"f = f_0-B/2\", linecolor = :green);\n",
    "    vline!([f_0_norm+B_norm/2], label = L\"f = f_0+B/2\", linecolor = :green);\n",
    "    xlims!((0,.5));\n",
    "    ylims!((-50,5));\n",
    "    xlabel!(L\"f/f_s\");\n",
    "    ylabel!(L\"20 \\log_{10}H^\\prime(f)\");\n",
    "  end"
   ]
  }
 ],
 "metadata": {
  "@webio": {
   "lastCommId": "c5e2d405-ceed-4fad-abff-bac318354ae7",
   "lastKernelId": "514a0514-cfad-4d6a-a30a-4bab0d3a1643"
  },
  "kernelspec": {
   "display_name": "Julia 1.4.1",
   "language": "julia",
   "name": "julia-1.4"
  },
  "language_info": {
   "file_extension": ".jl",
   "mimetype": "application/julia",
   "name": "julia",
   "version": "1.4.1"
  }
 },
 "nbformat": 4,
 "nbformat_minor": 4
}
