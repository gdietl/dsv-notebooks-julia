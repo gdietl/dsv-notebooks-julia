{
 "cells": [
  {
   "cell_type": "markdown",
   "metadata": {},
   "source": [
    "# Julia-Notebook zur Veranschaulichung der Optimalmethode"
   ]
  },
  {
   "cell_type": "markdown",
   "metadata": {},
   "source": [
    "* Finde minimales $N$ mit der ein Optimalfilter gerade die Entwurfskriterien erfüllt (maximale Welligkeit im Durchlassbereich, minimale Sperrdämpfung im Sperrbereich, obere Grenzfrequenz des Durchlassbereichs, untere Grenzfrequenz des Sperrbereichs).\n",
    "* Verwende Parks-McClellan-Algorithmus (hier `remez`, das auch für IIR-Filter funktioniert) zur Berechnung des optimalen FIR-Filters mit dieser Ordnung unter Verwendung der Tschebyscheff-Approximation"
   ]
  },
  {
   "cell_type": "code",
   "execution_count": null,
   "metadata": {},
   "outputs": [],
   "source": []
  }
 ],
 "metadata": {
  "kernelspec": {
   "display_name": "Julia 1.4.1",
   "language": "julia",
   "name": "julia-1.4"
  },
  "language_info": {
   "file_extension": ".jl",
   "mimetype": "application/julia",
   "name": "julia",
   "version": "1.4.1"
  }
 },
 "nbformat": 4,
 "nbformat_minor": 4
}
